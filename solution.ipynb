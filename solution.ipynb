{
 "cells": [
  {
   "cell_type": "code",
   "execution_count": 1,
   "metadata": {},
   "outputs": [],
   "source": [
    "import numpy as np\n",
    "import matplotlib.pyplot as plt\n",
    "from solvers import steepest_descent, newton, BFGS, DFP\n",
    "from objectives import get_rosenbrock, get_lgt_obj, get_zakharov"
   ]
  },
  {
   "cell_type": "markdown",
   "metadata": {},
   "source": [
    "Common plotting method for all 3 functions"
   ]
  },
  {
   "cell_type": "code",
   "execution_count": 2,
   "metadata": {},
   "outputs": [],
   "source": [
    "def plot_results(dim, results, title, filename):\n",
    "    plt.figure(figsize=(12, 6))\n",
    "    plt.subplot(1, 2, 1)\n",
    "    for label, (function_history, gradient_norms) in results.items():\n",
    "        plt.plot(function_history[:100], label=f'{label} - Function Value') \n",
    "    plt.title(f'{title} - Function Value')\n",
    "    plt.xlabel('Iterations')\n",
    "    plt.ylabel('Function Value')\n",
    "    plt.legend()\n",
    "\n",
    "    plt.subplot(1, 2, 2)\n",
    "    for label, (function_history, gradient_norms) in results.items():\n",
    "        plt.plot(gradient_norms[:100], label=f'{label} - Gradient Norm')  \n",
    "    plt.title(f'{title} - Gradient Norm')\n",
    "    plt.xlabel('Iterations')\n",
    "    plt.ylabel('Gradient Norm')\n",
    "    plt.legend()\n",
    "\n",
    "    plt.tight_layout()\n",
    "    plt.savefig(filename)\n",
    "    plt.close()"
   ]
  },
  {
   "cell_type": "markdown",
   "metadata": {},
   "source": [
    "Common method to save comparision in number of iterations for each optimization algo"
   ]
  },
  {
   "cell_type": "code",
   "execution_count": 3,
   "metadata": {},
   "outputs": [],
   "source": [
    "import pandas as pd\n",
    "\n",
    "def save_results_to_csv(results, filename):\n",
    "\n",
    "    data = {\n",
    "        'Algorithm': [],\n",
    "        'Dimension_or_Lambda': [],\n",
    "        # 'Time': [],\n",
    "        'Final Function Value': [],\n",
    "        'Final Gradient Norm': [],\n",
    "        'Iterations': []\n",
    "    }\n",
    "\n",
    "    # Populate the dictionary with the results\n",
    "    for dim, methods_results in results.items():\n",
    "        for label, (function_history, gradient_norms) in methods_results.items():\n",
    "            data['Algorithm'].append(label)\n",
    "            data['Dimension_or_Lambda'].append(dim)\n",
    "            # data['Time'].append(cumulative_times[-1])\n",
    "            data['Final Function Value'].append(function_history[-1])\n",
    "            data['Final Gradient Norm'].append(gradient_norms[-1])\n",
    "            data['Iterations'].append(len(function_history))\n",
    "        \n",
    "    df_results = pd.DataFrame(data)\n",
    "    df_results.to_csv(filename, index=False)\n"
   ]
  },
  {
   "cell_type": "markdown",
   "metadata": {},
   "source": [
    "For Rosebrock"
   ]
  },
  {
   "cell_type": "code",
   "execution_count": null,
   "metadata": {},
   "outputs": [],
   "source": [
    "dimensions = [2, 5, 10, 50]\n",
    "results = {}\n",
    "\n",
    "for dim in dimensions:\n",
    "    f, gradf, hessf, x0 = get_rosenbrock(dim)\n",
    "    results[dim] = {}\n",
    "\n",
    "    methods = {\n",
    "        'Steepest Descent': steepest_descent,\n",
    "        'Newton': newton,\n",
    "        'BFGS': BFGS,\n",
    "        'DFP': DFP\n",
    "    }\n",
    "\n",
    "    for label, method in methods.items():\n",
    "        if label == 'Newton':\n",
    "            xsol, function_history, cumulative_times, gradient_norms = method(x0, f, gradf, hessf)\n",
    "        else:\n",
    "            xsol, function_history, cumulative_times, gradient_norms = method(x0, f, gradf)\n",
    "        results[dim][label] = (function_history, gradient_norms)\n",
    "        print(f\"{label} done for dim={dim}\")\n",
    "\n",
    "    plot_results(dim, results[dim], f'Rosenbrock Function Optimization for Dimension {dim}', f'rosenbrock_{dim}.png')\n",
    "save_results_to_csv(results, 'rosenbrock_results.csv')"
   ]
  },
  {
   "cell_type": "markdown",
   "metadata": {},
   "source": [
    "For Zakharov"
   ]
  },
  {
   "cell_type": "code",
   "execution_count": null,
   "metadata": {},
   "outputs": [],
   "source": [
    "results = {}\n",
    "# Iterate over each dimension\n",
    "\n",
    "f, gradf, hessf, x0 = get_zakharov(2)\n",
    "results[0] = {}\n",
    "\n",
    "methods = {\n",
    "    'Steepest Descent': steepest_descent,\n",
    "    'Newton': newton,\n",
    "    'BFGS': BFGS,\n",
    "    'DFP': DFP\n",
    "}\n",
    "\n",
    "for label, method in methods.items():\n",
    "    if label == 'Newton':\n",
    "        xsol, function_history, cumulative_times, gradient_norms = method(x0, f, gradf, hessf)\n",
    "    else:\n",
    "        xsol, function_history, cumulative_times, gradient_norms = method(x0, f, gradf)\n",
    "    results[0][label] = (function_history, gradient_norms)\n",
    "    print(f\"{label} done for dim={2}\")\n",
    "\n",
    "plot_results(2, results[0], f'Zakharov Function Optimization for Dimension {2}', f'zakharov_2.png')\n",
    "save_results_to_csv(results, 'zakharov_results.csv')\n"
   ]
  },
  {
   "cell_type": "markdown",
   "metadata": {},
   "source": [
    "For Logistic Regression on MNIST"
   ]
  },
  {
   "cell_type": "code",
   "execution_count": null,
   "metadata": {},
   "outputs": [],
   "source": [
    "# import time\n",
    "# lambdas = [0.001, 0.01, 0.1]\n",
    "# results = {}\n",
    "\n",
    "# for lam in lambdas:\n",
    "#     f, gradf, hessf, x0 = get_lgt_obj(lam)\n",
    "#     results[lam] = {}\n",
    "\n",
    "#     methods = {\n",
    "#         'Steepest Descent': steepest_descent,\n",
    "#         'Newton': newton,\n",
    "#         'BFGS': BFGS,\n",
    "#         'DFP': DFP\n",
    "#     }\n",
    "\n",
    "#     for label, method in methods.items():\n",
    "#         start_time = time.time()\n",
    "#         if label == 'Newton':\n",
    "#             xsol, function_history, cumulative_times, gradient_norms = method(x0, f, gradf, hessf, lam, t0=1e-3, grad_tol=1e-5)\n",
    "#         elif label == 'DFP':\n",
    "#             # continue\n",
    "#             xsol, function_history, cumulative_times, gradient_norms = method(x0, f, gradf, lam, c1=0.8, t0=1e-3, grad_tol=1e-3)\n",
    "#         else:\n",
    "#             xsol, function_history, cumulative_times, gradient_norms = method(x0, f, gradf, lam, t0=1e-3, grad_tol=1e-5)\n",
    "#         results[lam][label] = (function_history, gradient_norms)\n",
    "#         end_time = time.time()\n",
    "#         print(f\"{label} done for λ={lam} in {end_time - start_time} seconds\")\n",
    "\n",
    "#     plot_results(lam, results[lam], f'LGT Function Optimization with λ={lam}', f'lgt_{lam}.png')\n",
    "    \n",
    "# save_results_to_csv(results, 'lgt_results.csv')"
   ]
  },
  {
   "cell_type": "code",
   "execution_count": null,
   "metadata": {},
   "outputs": [],
   "source": [
    "import time\n",
    "lambdas = [0.001, 0.01, 0.1]\n",
    "results = {}\n",
    "\n",
    "for lam in lambdas:\n",
    "    f, gradf, hessf, x0 = get_lgt_obj(lam)\n",
    "    results[lam] = {}\n",
    "\n",
    "    methods = {\n",
    "        'Steepest Descent': lambda x0, f, gradf: steepest_descent(x0, f, gradf, c0=0.0001, c1=0.9, t0=0.1e-3, grad_tol=1e-5),\n",
    "        'Newton': lambda x0, f, gradf, hessf: newton(x0, f, gradf, hessf, c0=0.0001, c1=0.9, t0=1e-3, grad_tol=1e-5),\n",
    "        'BFGS': lambda x0, f, gradf: BFGS(x0, f, gradf, c0=0.001, c1=0.9, t0=1e-3, grad_tol=1e-3),\n",
    "        'DFP': lambda x0, f, gradf: DFP(x0, f, gradf, c0=0.001, c1=0.5, t0=1e-3, grad_tol=1e-3)\n",
    "    }\n",
    "\n",
    "    for label, method in methods.items():\n",
    "        print(f\"Running {label} for λ={lam}\")\n",
    "        start_time = time.time()\n",
    "        if label == 'Newton':\n",
    "            xsol, function_history, cumulative_times, gradient_norms = method(x0, f, gradf, hessf)\n",
    "        else:\n",
    "            xsol, function_history, cumulative_times, gradient_norms = method(x0, f, gradf)\n",
    "        results[lam][label] = (function_history, gradient_norms)\n",
    "        end_time = time.time()\n",
    "        print(f\"{label} done for λ={lam} in {end_time - start_time} seconds\")\n",
    "\n",
    "    plot_results(lam, results[lam], f'LGT Function Optimization with λ={lam}', f'lgt_{lam}.png')\n",
    "    \n",
    "save_results_to_csv(results, 'lgt_results.csv')\n"
   ]
  },
  {
   "cell_type": "code",
   "execution_count": 12,
   "metadata": {},
   "outputs": [
    {
     "name": "stderr",
     "output_type": "stream",
     "text": [
      "2025-02-16 13:55:39,449 - INFO - Newton done for c0=0.0001 in 192.67431211471558 seconds\n",
      "2025-02-16 13:55:39,449 - INFO - Iterations: 452, Final Function Value: 0.031267870877221424, Final Gradient Norm: 9.92884141473005e-06\n",
      "2025-02-16 13:59:32,071 - INFO - Newton done for c0=0.001 in 232.62001419067383 seconds\n",
      "2025-02-16 13:59:32,074 - INFO - Iterations: 452, Final Function Value: 0.031267870877221424, Final Gradient Norm: 9.92884141473005e-06\n",
      "2025-02-16 14:03:48,064 - INFO - Newton done for c0=0.01 in 255.98979783058167 seconds\n",
      "2025-02-16 14:03:48,066 - INFO - Iterations: 478, Final Function Value: 0.03126787086533303, Final Gradient Norm: 9.92773020746447e-06\n"
     ]
    },
    {
     "data": {
      "image/png": "[encoded data removed]",
      "text/plain": [
       "<Figure size 800x600 with 2 Axes>"
      ]
     },
     "metadata": {},
     "output_type": "display_data"
    }
   ],
   "source": [
    "import logging\n",
    "import time\n",
    "\n",
    "# Set up logging\n",
    "logging.basicConfig(level=logging.INFO, format='%(asctime)s - %(levelname)s - %(message)s')\n",
    "\n",
    "# Define search grid\n",
    "c0_values = [1e-4, 1e-3, 1e-2]  # Typical range\n",
    "\n",
    "# Fixed parameters\n",
    "c1_fixed = 0.9  # Fixed c1 value\n",
    "lambda_fixed = 0.001  # Regularization parameter\n",
    "t0_fixed = 1e-3  # Small step size\n",
    "grad_tol_fixed = 1e-5  # Small enough tolerance\n",
    "\n",
    "# Load LGT problem\n",
    "f, gradf, hessf, x0 = get_lgt_obj(lambda_fixed)\n",
    "\n",
    "# Storage for results\n",
    "results = {}\n",
    "\n",
    "for c0 in c0_values:\n",
    "    results[c0] = {}\n",
    "\n",
    "    # Test Newton method\n",
    "    method = lambda x, f, gradf, hessf: newton(x, f, gradf, hessf, c0=c0, c1=c1_fixed, t0=t0_fixed, grad_tol=grad_tol_fixed)\n",
    "\n",
    "    start_time = time.time()\n",
    "    xsol, function_history, cumulative_times, gradient_norms = method(x0, f, gradf, hessf)\n",
    "    end_time = time.time()\n",
    "\n",
    "    results[c0][\"Newton\"] = {\n",
    "        \"iterations\": len(function_history),\n",
    "        \"final_f\": function_history[-1],\n",
    "        \"final_grad_norm\": gradient_norms[-1]\n",
    "    }\n",
    "\n",
    "    logging.info(f\"Newton done for c0={c0} in {end_time - start_time} seconds\")\n",
    "    logging.info(f\"Iterations: {len(function_history)}, Final Function Value: {function_history[-1]}, Final Gradient Norm: {gradient_norms[-1]}\")\n",
    "\n",
    "# Convert to a heatmap-friendly format\n",
    "data = []\n",
    "for c0, methods in results.items():\n",
    "    for method, values in methods.items():\n",
    "        data.append([method, c0, values[\"iterations\"], values[\"final_f\"], values[\"final_grad_norm\"]])\n",
    "\n",
    "df = pd.DataFrame(data, columns=[\"Method\", \"c0\", \"Iterations\", \"Final Function Value\", \"Final Gradient Norm\"])\n",
    "\n",
    "# Pivot table for heatmap\n",
    "pivot_iterations = df.pivot_table(index=\"c0\", values=\"Iterations\", aggfunc=\"mean\")\n",
    "\n",
    "# Plot heatmap using matplotlib\n",
    "plt.figure(figsize=(8, 6))\n",
    "plt.imshow(pivot_iterations.values.reshape(-1, 1), cmap=\"viridis\", aspect='auto')\n",
    "plt.colorbar(label='Number of Iterations')\n",
    "plt.title(\"Number of Iterations vs. c0\")\n",
    "plt.xlabel(\"c0\")\n",
    "plt.ylabel(\"Number of Iterations\")\n",
    "plt.xticks(ticks=range(len(c0_values)), labels=c0_values)\n",
    "plt.yticks([])\n",
    "plt.show()\n"
   ]
  }
 ],
 "metadata": {
  "kernelspec": {
   "display_name": "myenv",
   "language": "python",
   "name": "python3"
  },
  "language_info": {
   "codemirror_mode": {
    "name": "ipython",
    "version": 3
   },
   "file_extension": ".py",
   "mimetype": "text/x-python",
   "name": "python",
   "nbconvert_exporter": "python",
   "pygments_lexer": "ipython3",
   "version": "3.11.11"
  }
 },
 "nbformat": 4,
 "nbformat_minor": 2
}
